{
 "cells": [
  {
   "cell_type": "code",
   "execution_count": 1,
   "metadata": {
    "_cell_guid": "b1076dfc-b9ad-4769-8c92-a6c4dae69d19",
    "_uuid": "8f2839f25d086af736a60e9eeb907d3b93b6e0e5"
   },
   "outputs": [
    {
     "name": "stderr",
     "output_type": "stream",
     "text": [
      "Using TensorFlow backend.\n"
     ]
    }
   ],
   "source": [
    "import os\n",
    "import time\n",
    "import numpy as np\n",
    "import pandas as pd\n",
    "from tqdm import tqdm\n",
    "import math\n",
    "from sklearn.model_selection import train_test_split\n",
    "from sklearn import metrics\n",
    "\n",
    "from keras.preprocessing.text import Tokenizer\n",
    "from keras.preprocessing.sequence import pad_sequences\n",
    "from keras.layers import Dense, Input, LSTM, Embedding, Dropout, Activation, CuDNNGRU, Conv1D\n",
    "from keras.layers import Bidirectional, GlobalMaxPool1D\n",
    "from keras.models import Model\n",
    "from keras import initializers, regularizers, constraints, optimizers, layers"
   ]
  },
  {
   "cell_type": "code",
   "execution_count": 2,
   "metadata": {
    "_cell_guid": "79c7e3d0-c299-4dcb-8224-4455121ee9b0",
    "_uuid": "d629ff2d2480ee46fbb7e2d37f6b5fab8052498a"
   },
   "outputs": [
    {
     "name": "stdout",
     "output_type": "stream",
     "text": [
      "Train shape :  (1306122, 3)\n",
      "Test shape :  (375806, 2)\n"
     ]
    }
   ],
   "source": [
    "train_df = pd.read_csv(\"../input/train.csv\")\n",
    "test_df = pd.read_csv(\"../input/test.csv\")\n",
    "print(\"Train shape : \",train_df.shape)\n",
    "print(\"Test shape : \",test_df.shape)"
   ]
  },
  {
   "cell_type": "code",
   "execution_count": 3,
   "metadata": {
    "_uuid": "ba5a1b8109dee2c9fbc628d5da4a7c3447d42fb8"
   },
   "outputs": [],
   "source": [
    "\n",
    "train_df, val_df = train_test_split(train_df, test_size=0.1, random_state=2018) \n",
    "embed_size = 300\n",
    "max_features = 50000\n",
    "maxlen = 100 \n",
    "train_X = train_df[\"question_text\"].fillna(\"_na_\").values\n",
    "val_X = val_df[\"question_text\"].fillna(\"_na_\").values\n",
    "test_X = test_df[\"question_text\"].fillna(\"_na_\").values\n",
    "tokenizer = Tokenizer(num_words=max_features)\n",
    "tokenizer.fit_on_texts(list(train_X))\n",
    "train_X = tokenizer.texts_to_sequences(train_X)\n",
    "val_X = tokenizer.texts_to_sequences(val_X)\n",
    "test_X = tokenizer.texts_to_sequences(test_X)\n",
    "train_X = pad_sequences(train_X, maxlen=maxlen)\n",
    "val_X = pad_sequences(val_X, maxlen=maxlen)\n",
    "test_X = pad_sequences(test_X, maxlen=maxlen)\n",
    "train_y = train_df['target'].values\n",
    "val_y = val_df['target'].values"
   ]
  },
  {
   "cell_type": "code",
   "execution_count": 4,
   "metadata": {
    "_uuid": "3cfab26c6cced33ef7ab84f0d36997113131d530"
   },
   "outputs": [
    {
     "name": "stdout",
     "output_type": "stream",
     "text": [
      "_________________________________________________________________\n",
      "Layer (type)                 Output Shape              Param #   \n",
      "=================================================================\n",
      "input_1 (InputLayer)         (None, 100)               0         \n",
      "_________________________________________________________________\n",
      "embedding_1 (Embedding)      (None, 100, 300)          15000000  \n",
      "_________________________________________________________________\n",
      "bidirectional_1 (Bidirection (None, 100, 128)          140544    \n",
      "_________________________________________________________________\n",
      "global_max_pooling1d_1 (Glob (None, 128)               0         \n",
      "_________________________________________________________________\n",
      "dense_1 (Dense)              (None, 16)                2064      \n",
      "_________________________________________________________________\n",
      "dropout_1 (Dropout)          (None, 16)                0         \n",
      "_________________________________________________________________\n",
      "dense_2 (Dense)              (None, 1)                 17        \n",
      "=================================================================\n",
      "Total params: 15,142,625\n",
      "Trainable params: 15,142,625\n",
      "Non-trainable params: 0\n",
      "_________________________________________________________________\n",
      "None\n"
     ]
    }
   ],
   "source": [
    "inp = Input(shape=(maxlen,))\n",
    "x = Embedding(max_features, embed_size)(inp)\n",
    "x = Bidirectional(CuDNNGRU(64, return_sequences=True))(x)\n",
    "x = GlobalMaxPool1D()(x)\n",
    "x = Dense(16, activation=\"relu\")(x)\n",
    "x = Dropout(0.1)(x)\n",
    "x = Dense(1, activation=\"sigmoid\")(x)\n",
    "model = Model(inputs=inp, outputs=x)\n",
    "model.compile(loss='binary_crossentropy', optimizer='adam', metrics=['accuracy'])\n",
    "\n",
    "print(model.summary())"
   ]
  },
  {
   "cell_type": "code",
   "execution_count": 5,
   "metadata": {
    "_uuid": "ef1e1015e7c3ab5bc5d9774e49820c4b286d7847"
   },
   "outputs": [
    {
     "name": "stdout",
     "output_type": "stream",
     "text": [
      "Train on 1175509 samples, validate on 130613 samples\n",
      "Epoch 1/2\n",
      "1175509/1175509 [==============================] - 94s 80us/step - loss: 0.1220 - acc: 0.9538 - val_loss: 0.1068 - val_acc: 0.9568\n",
      "Epoch 2/2\n",
      "1175509/1175509 [==============================] - 87s 74us/step - loss: 0.0976 - acc: 0.9611 - val_loss: 0.1087 - val_acc: 0.9556\n"
     ]
    },
    {
     "data": {
      "text/plain": [
       "<keras.callbacks.History at 0x7f3617f83668>"
      ]
     },
     "execution_count": 5,
     "metadata": {},
     "output_type": "execute_result"
    }
   ],
   "source": [
    "\n",
    "model.fit(train_X, train_y, batch_size=512, epochs=2, validation_data=(val_X, val_y))"
   ]
  },
  {
   "cell_type": "code",
   "execution_count": 6,
   "metadata": {
    "_uuid": "47b63dca0247a08a808db7ae6eea33065c554948"
   },
   "outputs": [
    {
     "name": "stdout",
     "output_type": "stream",
     "text": [
      "130613/130613 [==============================] - 2s 16us/step\n",
      "F1 score at threshold 0.1 is 0.5711791779082684\n",
      "F1 score at threshold 0.11 is 0.5781787289129819\n",
      "F1 score at threshold 0.12 is 0.5855770420154208\n",
      "F1 score at threshold 0.13 is 0.5918898497187473\n",
      "F1 score at threshold 0.14 is 0.5967095729264342\n",
      "F1 score at threshold 0.15 is 0.6017385287376205\n",
      "F1 score at threshold 0.16 is 0.6071992976294995\n",
      "F1 score at threshold 0.17 is 0.611699759593981\n",
      "F1 score at threshold 0.18 is 0.615829157072554\n",
      "F1 score at threshold 0.19 is 0.6201507882111035\n",
      "F1 score at threshold 0.2 is 0.6242480333179083\n",
      "F1 score at threshold 0.21 is 0.6279320192892925\n",
      "F1 score at threshold 0.22 is 0.6303236797274276\n",
      "F1 score at threshold 0.23 is 0.6332075832099708\n",
      "F1 score at threshold 0.24 is 0.6365963200849954\n",
      "F1 score at threshold 0.25 is 0.6384825433976984\n",
      "F1 score at threshold 0.26 is 0.6411973217802285\n",
      "F1 score at threshold 0.27 is 0.6433503899845994\n",
      "F1 score at threshold 0.28 is 0.645426309988979\n",
      "F1 score at threshold 0.29 is 0.6469043530956469\n",
      "F1 score at threshold 0.3 is 0.6490477645381403\n",
      "F1 score at threshold 0.31 is 0.6501719624249268\n",
      "F1 score at threshold 0.32 is 0.6518879162997877\n",
      "F1 score at threshold 0.33 is 0.6532637075718015\n",
      "F1 score at threshold 0.34 is 0.6536903571992213\n",
      "F1 score at threshold 0.35 is 0.6544066988181675\n",
      "F1 score at threshold 0.36 is 0.6557727224180284\n",
      "F1 score at threshold 0.37 is 0.6549625720286499\n",
      "F1 score at threshold 0.38 is 0.6565755208333333\n",
      "F1 score at threshold 0.39 is 0.6570397111913356\n",
      "F1 score at threshold 0.4 is 0.6570735472488698\n",
      "F1 score at threshold 0.41 is 0.6575479566305255\n",
      "F1 score at threshold 0.42 is 0.6583086136452678\n",
      "F1 score at threshold 0.43 is 0.6590038314176244\n",
      "F1 score at threshold 0.44 is 0.6586167800453515\n",
      "F1 score at threshold 0.45 is 0.658444672833162\n",
      "F1 score at threshold 0.46 is 0.6579583381286684\n",
      "F1 score at threshold 0.47 is 0.657386462502175\n",
      "F1 score at threshold 0.48 is 0.6568106118155789\n",
      "F1 score at threshold 0.49 is 0.6550728055178918\n",
      "F1 score at threshold 0.5 is 0.6553464347206555\n"
     ]
    }
   ],
   "source": [
    "pred_noemb_val_y = model.predict([val_X], batch_size=1024, verbose=1)\n",
    "for thresh in np.arange(0.1, 0.501, 0.01):\n",
    "    thresh = np.round(thresh, 2)\n",
    "    print(\"F1 score at threshold {0} is {1}\".format(thresh, metrics.f1_score(val_y, (pred_noemb_val_y>thresh).astype(int))))"
   ]
  },
  {
   "cell_type": "code",
   "execution_count": 7,
   "metadata": {
    "_uuid": "a88df747f43259bab84447b50e45aa9e978f2cee"
   },
   "outputs": [
    {
     "ename": "SyntaxError",
     "evalue": "invalid syntax (<ipython-input-7-eabb059634f9>, line 1)",
     "output_type": "error",
     "traceback": [
      "\u001b[0;36m  File \u001b[0;32m\"<ipython-input-7-eabb059634f9>\"\u001b[0;36m, line \u001b[0;32m1\u001b[0m\n\u001b[0;31m    pred_noemb_test_y = model.predict([test_X], batch_size=1024, verbose=1)`\u001b[0m\n\u001b[0m                                                                           ^\u001b[0m\n\u001b[0;31mSyntaxError\u001b[0m\u001b[0;31m:\u001b[0m invalid syntax\n"
     ]
    }
   ],
   "source": [
    "pred_noemb_test_y = model.predict([test_X], batch_size=1024, verbose=1)`"
   ]
  }
 ],
 "metadata": {
  "kernelspec": {
   "display_name": "Python 3",
   "language": "python",
   "name": "python3"
  },
  "language_info": {
   "codemirror_mode": {
    "name": "ipython",
    "version": 3
   },
   "file_extension": ".py",
   "mimetype": "text/x-python",
   "name": "python",
   "nbconvert_exporter": "python",
   "pygments_lexer": "ipython3",
   "version": "3.7.4"
  }
 },
 "nbformat": 4,
 "nbformat_minor": 1
}
